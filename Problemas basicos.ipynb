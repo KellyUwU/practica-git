{
 "cells": [
  {
   "cell_type": "code",
   "execution_count": 19,
   "metadata": {},
   "outputs": [
    {
     "name": "stdout",
     "output_type": "stream",
     "text": [
      "0\n",
      "1\n",
      "1\n",
      "2\n",
      "3\n"
     ]
    }
   ],
   "source": [
    "i = 0\n",
    "j = 1\n",
    "user = int(input())\n",
    "\n",
    "for _ in range(user):\n",
    "    print(i)\n",
    "    old_i = i \n",
    "    i = j\n",
    "    j = j + old_i\n",
    "   \n"
   ]
  },
  {
   "cell_type": "code",
   "execution_count": 20,
   "metadata": {},
   "outputs": [
    {
     "name": "stdout",
     "output_type": "stream",
     "text": [
      "La cantidad de digitos de tu numero es 4\n",
      "La suma de tus digitos es 10\n"
     ]
    }
   ],
   "source": [
    "#suma de digitos\n",
    "user = int(input())\n",
    "\n",
    "\n",
    "def cant_digitos(numero):\n",
    "    contador = 0\n",
    "    while numero>0:\n",
    "        numero = numero//10\n",
    "        #print(contador)\n",
    "        contador = contador + 1\n",
    "    return contador\n",
    "\n",
    "c_dig = cant_digitos(user)\n",
    "\n",
    "print(\"La cantidad de digitos de tu numero es\",c_dig)\n",
    "\n",
    "numero = user\n",
    "contador = 0\n",
    "for _ in range(0,c_dig):\n",
    "    digito = numero % 10\n",
    "    numero = numero//10\n",
    "    contador = contador + digito\n",
    "print(\"La suma de tus digitos es\",contador)\n"
   ]
  },
  {
   "cell_type": "code",
   "execution_count": null,
   "metadata": {},
   "outputs": [
    {
     "name": "stdout",
     "output_type": "stream",
     "text": [
      "La suma de digitos de tu numero es 6\n"
     ]
    }
   ],
   "source": [
    "user = int(input())\n",
    "\n",
    "\n",
    "def sum_digitos(numero):\n",
    "    contador = 0\n",
    "    while numero>0:\n",
    "        digito = numero%10\n",
    "        #print(contador)\n",
    "        numero = numero // 10\n",
    "        contador = contador + digito\n",
    "    return contador\n",
    "\n",
    "\n"
   ]
  },
  {
   "cell_type": "code",
   "execution_count": 21,
   "metadata": {},
   "outputs": [
    {
     "name": "stdout",
     "output_type": "stream",
     "text": [
      "Número invertido: 7654321\n"
     ]
    }
   ],
   "source": [
    "user = int(input(\"Ingrese su número a invertir: \"))\n",
    "numero = user\n",
    "nuevo_num = 0\n",
    "\n",
    "while numero > 0:\n",
    "    dig = numero % 10\n",
    "    nuevo_num = nuevo_num * 10 + dig\n",
    "    numero = numero // 10\n",
    "\n",
    "print(\"Número invertido:\", nuevo_num)\n"
   ]
  },
  {
   "cell_type": "code",
   "execution_count": 24,
   "metadata": {},
   "outputs": [
    {
     "name": "stdout",
     "output_type": "stream",
     "text": [
      "a\n",
      "l\n",
      "o\n",
      "h\n"
     ]
    }
   ],
   "source": [
    "user = str(input(\"Ingrese una palabra:\"))\n",
    "palabra = user\n",
    "\n",
    "contador = len(palabra)\n",
    "while contador > 0: \n",
    "    letra = palabra[-1]\n",
    "    contador = contador -1\n",
    "    print(letra)\n",
    "    palabra = palabra[:-1]\n",
    "\n"
   ]
  },
  {
   "cell_type": "code",
   "execution_count": null,
   "metadata": {},
   "outputs": [],
   "source": [
    "list[len(list)-1]"
   ]
  },
  {
   "cell_type": "code",
   "execution_count": 23,
   "metadata": {},
   "outputs": [
    {
     "data": {
      "text/plain": [
       "'hol'"
      ]
     },
     "execution_count": 23,
     "metadata": {},
     "output_type": "execute_result"
    }
   ],
   "source": [
    "list = \"hola\"\n",
    "list[:-1]"
   ]
  }
 ],
 "metadata": {
  "kernelspec": {
   "display_name": "Python 3",
   "language": "python",
   "name": "python3"
  },
  "language_info": {
   "codemirror_mode": {
    "name": "ipython",
    "version": 3
   },
   "file_extension": ".py",
   "mimetype": "text/x-python",
   "name": "python",
   "nbconvert_exporter": "python",
   "pygments_lexer": "ipython3",
   "version": "3.12.1"
  }
 },
 "nbformat": 4,
 "nbformat_minor": 2
}
